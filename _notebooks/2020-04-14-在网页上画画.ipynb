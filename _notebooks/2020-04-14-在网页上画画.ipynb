{
 "cells": [
  {
   "cell_type": "markdown",
   "metadata": {},
   "source": [
    "# \"在网页上画画\"\n",
    "> \"Awesome summary\"\n",
    "- toc: false\n",
    "- branch: master\n",
    "- badges: true\n",
    "- comments: true\n",
    "- categories: [python, jupyter]\n",
    "- hide: false\n",
    "- search_exclude: true\n",
    "- metadata_key1: python\n",
    "- metadata_key2: jupyter"
   ]
  },
  {
   "cell_type": "markdown",
   "metadata": {},
   "source": [
    "## 课程简介"
   ]
  },
  {
   "cell_type": "markdown",
   "metadata": {},
   "source": [
    "这是一个基于jupyter的海龟画画课程，使用了一个ipyturtle库。ipyturtle库是jupyter的插件，用来实现logo语言的功能。\n",
    "\n",
    "Logo语言是MIT著名计算机教授西蒙派珀特专为儿童设计的编程语言，曾经风靡全球，直到最近十年才慢慢被Scratch所替代。有人开发了一个叫做Turtle的Python库，继承了logo语言的所有功能。我希望能够借助画画的方式，让初学者熟悉Python语法，但是Python命令行形式的编程界面，总不够友好。有了Jupyter和ipyturtle后，我们可以在网页上一边画画，一边学习Python。\n"
   ]
  },
  {
   "cell_type": "markdown",
   "metadata": {},
   "source": [
    "## 准备工作\n",
    "\n",
    "1.ipyturtle的安装\n",
    "\n",
    "安装ipyturtle之前，要先安装jupyter。\n",
    "\n",
    "安装方法：\n",
    "\n",
    "pip install ipyturtle\n",
    "jupyter nbextension enable --py --sys-prefix ipyturtle\n",
    "\n",
    "如果pip不能安装，可以试试pip3。\n",
    "\n",
    "ipyturtle的开源地址：https://github.com/gkvoelkl/ipython-turtle-widget\n",
    "\n",
    "虚谷号上，已经预装了jupyter和ipyturtle，打开就可以使用。\n",
    "\n",
    "2.谷歌浏览器\n",
    "\n",
    "需要使用谷歌浏览器来访问。"
   ]
  },
  {
   "cell_type": "markdown",
   "metadata": {},
   "source": [
    "好了，开始画图吧。\n",
    "\n",
    "## 开始画画\n",
    "\n",
    "1.准备工作：\n",
    "\n",
    "首先是导入库，然后显示Turtle对象。执行代码（选择语句，点击“运行”。），看一看，网页上是不是出现了一张中间有小三角形标志的图片？这就是的画布"
   ]
  },
  {
   "cell_type": "code",
   "execution_count": 1,
   "metadata": {},
   "outputs": [
    {
     "data": {
      "application/vnd.jupyter.widget-view+json": {
       "model_id": "4616fc9e784a41aba46f736fb0dca2ff",
       "version_major": 2,
       "version_minor": 0
      },
      "text/plain": [
       "Turtle()"
      ]
     },
     "metadata": {},
     "output_type": "display_data"
    }
   ],
   "source": [
    "from ipyturtle import Turtle\n",
    "t = Turtle()\n",
    "t"
   ]
  },
  {
   "attachments": {},
   "cell_type": "markdown",
   "metadata": {},
   "source": [
    "如果觉得画布太大，那就设定画布大小，小一点。试一试。"
   ]
  },
  {
   "cell_type": "code",
   "execution_count": 2,
   "metadata": {},
   "outputs": [],
   "source": [
    "# 先关闭\n",
    "t.close()"
   ]
  },
  {
   "cell_type": "code",
   "execution_count": 3,
   "metadata": {},
   "outputs": [
    {
     "data": {
      "application/vnd.jupyter.widget-view+json": {
       "model_id": "35863b9e178748e6b9314c2ce90dace5",
       "version_major": 2,
       "version_minor": 0
      },
      "text/plain": [
       "Turtle()"
      ]
     },
     "metadata": {},
     "output_type": "display_data"
    }
   ],
   "source": [
    "# 再画一个小一点的画布\n",
    "t = Turtle(fixed=False, width=100, height=100)\n",
    "t"
   ]
  },
  {
   "cell_type": "markdown",
   "metadata": {},
   "source": [
    "看一下，画布上是不是变小了，并且三角形标志的位置也不在中心点了。\n",
    "\n",
    "画一条长度为40的线吧。"
   ]
  },
  {
   "cell_type": "code",
   "execution_count": 4,
   "metadata": {},
   "outputs": [],
   "source": [
    "t.forward(40)"
   ]
  },
  {
   "attachments": {},
   "cell_type": "markdown",
   "metadata": {},
   "source": [
    "是不是看到图片中的三角形指示牌动起来了，并且底下出现一条线？\n",
    "\n",
    "接下来要考一考大家：\n",
    "\n",
    "默认情况下，三角形指示牌的坐标在“0，0”的位置，运行下面的代码，t的坐标在哪里？"
   ]
  },
  {
   "cell_type": "code",
   "execution_count": 5,
   "metadata": {},
   "outputs": [],
   "source": [
    "t.back(20)\n",
    "t.forward(60)"
   ]
  },
  {
   "cell_type": "markdown",
   "metadata": {},
   "source": [
    "有没有发现，三角形指示牌移动了？我们输出坐标吧。"
   ]
  },
  {
   "cell_type": "code",
   "execution_count": 6,
   "metadata": {},
   "outputs": [
    {
     "data": {
      "text/plain": [
       "(0.0, 80.0)"
      ]
     },
     "execution_count": 6,
     "metadata": {},
     "output_type": "execute_result"
    }
   ],
   "source": [
    "t.position()"
   ]
  },
  {
   "cell_type": "markdown",
   "metadata": {},
   "source": [
    "解释一下，back表示后退，forward表示移动，括号中的数字单位是像素。因为后退了20，再前进60，实际上是40，所以坐标在“0.0, 40.0”。那么Turtle还支持哪些操作呢？\n",
    "\n",
    "- 移动：forward()，back()\n",
    "    表示前进多少步,后退多少步，括号里面表示像素。\n",
    "- 转弯：right(10)、left(20)\n",
    "    右转和左转，括号里面表示角度。\n",
    "- 收起画笔：penup()\n",
    "- 重新开始：reset()\n"
   ]
  },
  {
   "cell_type": "markdown",
   "metadata": {},
   "source": [
    "我们试一试吧，画一条线，长度是50像素的水平线。"
   ]
  },
  {
   "cell_type": "code",
   "execution_count": 7,
   "metadata": {},
   "outputs": [
    {
     "data": {
      "application/vnd.jupyter.widget-view+json": {
       "model_id": "4b133541643241f998b3929a79f24caf",
       "version_major": 2,
       "version_minor": 0
      },
      "text/plain": [
       "Turtle()"
      ]
     },
     "metadata": {},
     "output_type": "display_data"
    }
   ],
   "source": [
    "from ipyturtle import Turtle\n",
    "t = Turtle(fixed=False, width=200, height=200)\n",
    "t"
   ]
  },
  {
   "cell_type": "code",
   "execution_count": 8,
   "metadata": {},
   "outputs": [],
   "source": [
    "t.right(90)\n",
    "t.forward(50)"
   ]
  },
  {
   "cell_type": "markdown",
   "metadata": {},
   "source": [
    "** 总结一下：** 要先显示t，然后移动坐标，就能看到图案，不然看到的是最终结果。"
   ]
  },
  {
   "cell_type": "markdown",
   "metadata": {},
   "source": [
    "2.画出基本形状："
   ]
  },
  {
   "cell_type": "code",
   "execution_count": 9,
   "metadata": {},
   "outputs": [
    {
     "data": {
      "application/vnd.jupyter.widget-view+json": {
       "model_id": "6f6790bf11d5422eb4b57e9325459f35",
       "version_major": 2,
       "version_minor": 0
      },
      "text/plain": [
       "Turtle()"
      ]
     },
     "metadata": {},
     "output_type": "display_data"
    }
   ],
   "source": [
    "# 长度是100，高度是50的矩形\n",
    "from ipyturtle import Turtle\n",
    "t = Turtle()\n",
    "t\n"
   ]
  },
  {
   "cell_type": "code",
   "execution_count": 10,
   "metadata": {
    "scrolled": true
   },
   "outputs": [],
   "source": [
    "#画出矩形\n",
    "t.forward(50)\n",
    "t.right(90)\n",
    "t.forward(100)\n",
    "t.right(90)\n",
    "t.forward(50)\n",
    "t.right(90)\n",
    "t.forward(100)\n"
   ]
  },
  {
   "attachments": {},
   "cell_type": "markdown",
   "metadata": {},
   "source": [
    "看一下，是不是画出了矩形？"
   ]
  },
  {
   "cell_type": "code",
   "execution_count": 11,
   "metadata": {},
   "outputs": [],
   "source": [
    "#先清除原来的结果\n",
    "t\n",
    "t.reset()"
   ]
  },
  {
   "cell_type": "markdown",
   "metadata": {},
   "source": [
    "4.如何画三角形\n",
    "\n",
    "这个可是难题了。"
   ]
  },
  {
   "cell_type": "code",
   "execution_count": 12,
   "metadata": {},
   "outputs": [
    {
     "data": {
      "application/vnd.jupyter.widget-view+json": {
       "model_id": "8bd256a377284f789fdfb44fc2cf2448",
       "version_major": 2,
       "version_minor": 0
      },
      "text/plain": [
       "Turtle()"
      ]
     },
     "metadata": {},
     "output_type": "display_data"
    }
   ],
   "source": [
    "#画出三角形\n",
    "from ipyturtle import Turtle\n",
    "t = Turtle()\n",
    "t"
   ]
  },
  {
   "cell_type": "code",
   "execution_count": 13,
   "metadata": {},
   "outputs": [],
   "source": [
    "t.forward(100)\n",
    "t.right(120)\n",
    "t.forward(100)\n",
    "t.right(120)\n",
    "t.forward(100)\n",
    "t.right(120)"
   ]
  },
  {
   "attachments": {},
   "cell_type": "markdown",
   "metadata": {},
   "source": [
    "说一下，这是什么原理？为什么这样画出来的就是一个三角形？\n",
    "\n",
    "那么，如何画出一个直角三角形呢？"
   ]
  },
  {
   "cell_type": "code",
   "execution_count": 14,
   "metadata": {},
   "outputs": [],
   "source": [
    "#画出有一个角是60度的直角三角形。\n",
    "t.reset()\n",
    "t.forward(100)\n",
    "t.right(90)\n",
    "t.forward(150)\n",
    "t.right(120)\n",
    "while t.position()[0]>0:\n",
    "    t.forward(1)\n",
    "t.right(150)\n",
    "t.forward(abs(t.position()[1]))"
   ]
  },
  {
   "attachments": {},
   "cell_type": "markdown",
   "metadata": {},
   "source": [
    "解释一下代码：\n",
    "\n",
    "t.position()，表示坐标，这个数据类型是元组（tuple）。因为我们不知道这个边有多长，就用while循环，一直走到坐标x超过原点（0）为止，然后回到原位。\n",
    "\n",
    "其中，t.position()[0]是x坐标，t.position()[1]是y坐标。\n",
    "\n",
    "问题：abs(t.position()[1])表示什么？"
   ]
  },
  {
   "cell_type": "markdown",
   "metadata": {},
   "source": [
    "**知识链接**：while 后面跟着的是表达式，只要表达式成立，那么就一直循环。"
   ]
  },
  {
   "cell_type": "markdown",
   "metadata": {},
   "source": [
    "思考：能不能用勾股定理算出边长，然后回到原点？\n",
    "\n",
    "如：math.sqrt(100**2+150**2)。\n",
    "\n",
    "如果使用sqrt，需要导入math库。在头部要加上一句“import math”"
   ]
  },
  {
   "cell_type": "markdown",
   "metadata": {},
   "source": [
    "5.写个函数吧"
   ]
  },
  {
   "cell_type": "code",
   "execution_count": 15,
   "metadata": {},
   "outputs": [],
   "source": [
    "# 正方形\n",
    "def square(size):\n",
    "    for i in range(4):\n",
    "        t.forward(size)\n",
    "        t.right(90)"
   ]
  },
  {
   "cell_type": "code",
   "execution_count": 16,
   "metadata": {},
   "outputs": [],
   "source": [
    "t.reset()\n",
    "square(100)"
   ]
  },
  {
   "attachments": {},
   "cell_type": "markdown",
   "metadata": {},
   "source": [
    "**知识链接1**：def square(size)表示一个自定义的函数，square是函数名，size是参数。函数类似一个程序代码的集合，调用起来比较方便。\n",
    "\n",
    "**知识链接2**：for i in range(4)表示循环4次，分别是0，1，2，3。即从0开始，不包括4。"
   ]
  },
  {
   "cell_type": "code",
   "execution_count": 17,
   "metadata": {},
   "outputs": [],
   "source": [
    "# 画个圆\n",
    "def circle():\n",
    "    for i in range(360):\n",
    "        t.forward(1)\n",
    "        t.right(1)\n"
   ]
  },
  {
   "cell_type": "code",
   "execution_count": 18,
   "metadata": {},
   "outputs": [],
   "source": [
    "t.reset()\n",
    "circle()"
   ]
  },
  {
   "attachments": {},
   "cell_type": "markdown",
   "metadata": {},
   "source": [
    "**思考题1**：如果把360改为60，图案有什么变化？要让画出来的图呈现出圆的样子，需要修改哪个数字？\n",
    "\n",
    "**思考题2**：如何修改代码，画出一个正五边形？"
   ]
  },
  {
   "cell_type": "code",
   "execution_count": 19,
   "metadata": {},
   "outputs": [],
   "source": [
    "# 画个正五边形\n",
    "def triangle():\n",
    "    for i in range(5):\n",
    "        t.forward(60)\n",
    "        t.right(72)\n",
    "t.reset()\n",
    "triangle()"
   ]
  },
  {
   "attachments": {},
   "cell_type": "markdown",
   "metadata": {},
   "source": [
    "看这画图的过程，是不是挺好玩？好了，这个海龟画画的简单教程结束了。"
   ]
  },
  {
   "cell_type": "code",
   "execution_count": null,
   "metadata": {},
   "outputs": [],
   "source": []
  }
 ],
 "metadata": {
  "kernelspec": {
   "display_name": "Python 3",
   "language": "python",
   "name": "python3"
  },
  "language_info": {
   "codemirror_mode": {
    "name": "ipython",
    "version": 3
   },
   "file_extension": ".py",
   "mimetype": "text/x-python",
   "name": "python",
   "nbconvert_exporter": "python",
   "pygments_lexer": "ipython3",
   "version": "3.5.2"
  }
 },
 "nbformat": 4,
 "nbformat_minor": 2
}
