{
 "cells": [
  {
   "cell_type": "markdown",
   "metadata": {},
   "source": [
    "# \"海龟画画\"\n",
    "> \"Awesome summary\"\n",
    "- toc: false\n",
    "- branch: master\n",
    "- badges: true\n",
    "- comments: true\n",
    "- categories: [python, jupyter]\n",
    "- hide: false\n",
    "- search_exclude: true\n",
    "- metadata_key1: python\n",
    "- metadata_key2: jupyter"
   ]
  },
  {
   "cell_type": "markdown",
   "metadata": {},
   "source": [
    "课程编写：谢作如"
   ]
  },
  {
   "cell_type": "markdown",
   "metadata": {},
   "source": [
    "## 课程简介"
   ]
  },
  {
   "cell_type": "markdown",
   "metadata": {},
   "source": [
    "这是一个基于jupyter的海龟画画课程，使用了一个ipyturtle库。ipyturtle库是jupyter的插件，用来实现logo语言的功能。\n",
    "\n",
    "Logo语言是MIT著名计算机教授西蒙派珀特专为儿童设计的编程语言，曾经风靡全球，直到最近十年才慢慢被Scratch所替代。有人开发了一个叫做Turtle的Python库，继承了logo语言的所有功能。我希望能够借助画画的方式，让初学者熟悉Python语法，但是Python命令行形式的编程界面，总不够友好。有了Jupyter和ipyturtle后，我们可以在网页上一边画画，一边学习Python。\n"
   ]
  },
  {
   "cell_type": "markdown",
   "metadata": {},
   "source": [
    "## 准备工作\n",
    "\n",
    "1.ipyturtle的安装\n",
    "\n",
    "安装ipyturtle之前，要先安装jupyter。\n",
    "\n",
    "安装方法：\n",
    "\n",
    "pip install ipyturtle\n",
    "jupyter nbextension enable --py --sys-prefix ipyturtle\n",
    "\n",
    "如果pip不能安装，可以试试pip3。\n",
    "\n",
    "ipyturtle的开源地址：https://github.com/gkvoelkl/ipython-turtle-widget\n",
    "\n",
    "虚谷号上，已经预装了jupyter和ipyturtle，打开就可以使用。\n",
    "\n",
    "2.谷歌浏览器\n",
    "\n",
    "需要使用谷歌浏览器来访问。"
   ]
  },
  {
   "cell_type": "code",
   "execution_count": 1,
   "metadata": {},
   "outputs": [
    {
     "data": {
      "application/vnd.jupyter.widget-view+json": {
       "model_id": "b9748c9ae2e441a9906010f60caaa723",
       "version_major": 2,
       "version_minor": 0
      },
      "text/plain": [
       "Turtle()"
      ]
     },
     "metadata": {},
     "output_type": "display_data"
    }
   ],
   "source": [
    "from ipyturtle import Turtle\n",
    "t = Turtle()\n",
    "t"
   ]
  },
  {
   "attachments": {
    "image.png": {
     "image/png": "[encoded data removed]"
    }
   },
   "cell_type": "markdown",
   "metadata": {},
   "source": [
    "![image.png](attachment:image.png)"
   ]
  },
  {
   "cell_type": "code",
   "execution_count": null,
   "metadata": {},
   "outputs": [],
   "source": []
  }
 ],
 "metadata": {
  "kernelspec": {
   "display_name": "Python 3",
   "language": "python",
   "name": "python3"
  },
  "language_info": {
   "codemirror_mode": {
    "name": "ipython",
    "version": 3
   },
   "file_extension": ".py",
   "mimetype": "text/x-python",
   "name": "python",
   "nbconvert_exporter": "python",
   "pygments_lexer": "ipython3",
   "version": "3.5.2"
  }
 },
 "nbformat": 4,
 "nbformat_minor": 2
}
